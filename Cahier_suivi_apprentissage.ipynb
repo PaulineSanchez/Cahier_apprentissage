{
 "cells": [
  {
   "cell_type": "markdown",
   "metadata": {},
   "source": [
    "# Cahier de suivi d'apprentissage"
   ]
  },
  {
   "cell_type": "markdown",
   "metadata": {},
   "source": [
    "## Table des matières\n",
    "\n",
    "### I. Back \n",
    "- Python \n",
    "- Pandas\n",
    "\n",
    "### II. Front\n",
    "- Tkinter\n",
    "- Flask\n",
    "\n",
    "### III. Machine Learning\n",
    "- Régressions\n",
    "\n",
    "### IV. BDD\n",
    "- Requêtes SQL\n",
    "- Merise\n",
    "\n",
    "### V. Veilles\n",
    "\n",
    "### VI. Liens utiles"
   ]
  },
  {
   "cell_type": "markdown",
   "metadata": {},
   "source": [
    "### I.Back "
   ]
  },
  {
   "cell_type": "markdown",
   "metadata": {},
   "source": [
    "#### I. a) Python  \n",
    "\n",
    "- [Les variables](http://localhost:8888/files/COURS/01-cours_python_variables_print_input.pdf)\n",
    "- [Les conditions](http://localhost:8888/files/COURS/02-cours_python_conditions_indent.pdf)\n",
    "- [La boucle while](http://localhost:8888/files/COURS/03-cours_python_boucle_while.pdf)\n",
    "- [Les listes et les boucles](http://localhost:8888/files/COURS/04-cours_python_listes_boucles.pdf)\n",
    "- [Les chaînes de caractères](http://localhost:8888/files/COURS/05-cours_python_chaines_car.pdf)\n",
    "- [Les fonctions](http://localhost:8888/files/COURS/06-cours_python_fonctions.pdf)\n",
    "- [La portée des variables](http://localhost:8888/files/COURS/07-cours_python_portee_var.pdf)\n",
    "- [Les dictionnaires](http://localhost:8888/files/COURS/08-cours_python_dict.pdf)\n",
    "- [Plus sur la portée des variables](http://localhost:8888/files/COURS/20200409-_synthese_portee_variables.pdf)\n",
    "- [Cahier d'apprentissage début des bases en Pyhton](http://localhost:8888/notebooks/COURS/Cahier%20d'apprentissage.ipynb)\n",
    "- [Notebook exercices Python](http://localhost:8888/notebooks/COURS/Exercices_revision_python.ipynb)"
   ]
  },
  {
   "cell_type": "markdown",
   "metadata": {},
   "source": [
    "#### I. b) Pandas\n",
    "\n",
    "- [1er notebook Pandas](http://localhost:8888/notebooks/COURS/0-Pandas_Exercices_Corr.ipynb)\n",
    "- [2ème notebook Pandas](http://localhost:8888/notebooks/COURS/1-Pandas_Exercices_Corr.ipynb)\n",
    "- [3ème notebook Pandas](http://localhost:8888/notebooks/COURS/Pandas_statistiques.ipynb)"
   ]
  },
  {
   "cell_type": "code",
   "execution_count": 17,
   "metadata": {},
   "outputs": [],
   "source": [
    "import pandas as pd"
   ]
  },
  {
   "cell_type": "markdown",
   "metadata": {},
   "source": [
    "### II. Front"
   ]
  },
  {
   "cell_type": "markdown",
   "metadata": {},
   "source": [
    "#### II. a) Tkinter\n",
    "\n",
    "- [Cours utilisation Tkinter](http://localhost:8888/notebooks/COURS/Notebook_tkinter.ipynb)"
   ]
  },
  {
   "cell_type": "code",
   "execution_count": 15,
   "metadata": {},
   "outputs": [],
   "source": [
    "import tkinter as tk"
   ]
  },
  {
   "cell_type": "markdown",
   "metadata": {},
   "source": [
    "#### II. b) Flask\n",
    "\n",
    "- [Comment débuter et faire un blog en Flask](http://localhost:8888/files/COURS/kata_flask%20(1).pdf)\n",
    "- [Doc Flask Vscode](https://code.visualstudio.com/docs/python/tutorial-flask#_create-a-requirementstxt-file-for-the-environment)"
   ]
  },
  {
   "cell_type": "markdown",
   "metadata": {},
   "source": [
    "Dans l'invit de commande:\n",
    "- aller dans le dossier où l'on souhaite mettre l'environnement virtuel\n",
    "- écrire ensuite `python -m venv .env`\n",
    "- écrire suite `.env\\scripts\\activate`\n",
    "- ensuite on install Flask et mysql connector après avoir mis à jour pip\n",
    "- `pip install -upgrade pip`\n",
    "- `pip install flask`\n",
    "- `pip install mysql-connector-python`"
   ]
  },
  {
   "cell_type": "markdown",
   "metadata": {},
   "source": [
    "### III. Machine learning"
   ]
  },
  {
   "cell_type": "markdown",
   "metadata": {},
   "source": [
    "#### III. a) Les régressions\n",
    "\n",
    "- [Notebook d'exercices régressions linéaires, multiples, polynomiales](http://localhost:8888/notebooks/COURS/Regression_lineaire_multiple_polynomiale_Corr.ipynb)\n",
    "- [PDF sur les matrices](http://localhost:8888/files/COURS/Cours_matrices.pdf)"
   ]
  },
  {
   "cell_type": "code",
   "execution_count": 16,
   "metadata": {},
   "outputs": [],
   "source": [
    "import numpy as np\n",
    "import matplotlib.pyplot as plt\n",
    "import pandas as pd\n",
    "from sklearn.metrics import mean_squared_error, mean_absolute_error"
   ]
  },
  {
   "cell_type": "markdown",
   "metadata": {},
   "source": [
    "### IV. BDD"
   ]
  },
  {
   "cell_type": "markdown",
   "metadata": {},
   "source": [
    "#### IV. a) Requêtes SQL\n",
    "\n",
    "- [Requêtes en lignes de commande](http://localhost:8888/files/COURS/sql_cmd%20(2).pdf)\n",
    "- [Requêtes SQL de base](http://localhost:8888/files/COURS/mysql_requetes%20(1).pdf)"
   ]
  },
  {
   "cell_type": "markdown",
   "metadata": {},
   "source": [
    "#### IV. b) Merise\n",
    "\n",
    "- [Cours merise](http://localhost:8888/files/COURS/exemple_merise%20(1).pdf)\n",
    "- [Cours complet merise](http://localhost:8888/files/COURS/Doc_merise.pdf)\n",
    "- [Kata merise](http://localhost:8888/files/COURS/kata_merise_corr%20(1).pdf)"
   ]
  },
  {
   "cell_type": "markdown",
   "metadata": {},
   "source": [
    "### V. Veilles\n",
    "\n",
    "[Lien vers le dossier comportant toutes les veilles](http://localhost:8888/tree/Veilles)"
   ]
  },
  {
   "cell_type": "markdown",
   "metadata": {},
   "source": [
    "### VI. Liens utiles"
   ]
  },
  {
   "cell_type": "markdown",
   "metadata": {},
   "source": [
    "- [Python simple](http://www.python-simple.com/)\n",
    "- [W3 school](https://www.w3schools.com/default.asp)\n",
    "- [Sololearn](https://www.sololearn.com/profile/24232761)\n",
    "- [Real Python](https://realpython.com/python-dicts/)"
   ]
  }
 ],
 "metadata": {
  "kernelspec": {
   "display_name": "Python 3",
   "language": "python",
   "name": "python3"
  },
  "language_info": {
   "codemirror_mode": {
    "name": "ipython",
    "version": 3
   },
   "file_extension": ".py",
   "mimetype": "text/x-python",
   "name": "python",
   "nbconvert_exporter": "python",
   "pygments_lexer": "ipython3",
   "version": "3.8.3"
  }
 },
 "nbformat": 4,
 "nbformat_minor": 4
}
